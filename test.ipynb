{
 "cells": [
  {
   "cell_type": "code",
   "execution_count": null,
   "metadata": {},
   "outputs": [],
   "source": [
    "!virtualenv -p python3 .\n",
    "!source ./bin/activate\n",
    "!pip install --require-hashes -r requirements.txt"
   ]
  },
  {
   "cell_type": "code",
   "execution_count": null,
   "metadata": {},
   "outputs": [],
   "source": [
    "# Two circles G1 and G2 intersect at two points M and N. Let AB be the line tangent \n",
    "# to these circles at A and B, respectively, so that M lies closer to AB than N. Let\n",
    "# CD be the line parallel to AB and passing through the point M, with C on G1 and\n",
    "# D on G2. Lines AC and BD meet at E; lines AN and CD meet at P; lines BN\n",
    "# and CD meet at Q. Show that EP = EQ. "
   ]
  }
 ],
 "metadata": {
  "language_info": {
   "name": "python"
  }
 },
 "nbformat": 4,
 "nbformat_minor": 2
}
